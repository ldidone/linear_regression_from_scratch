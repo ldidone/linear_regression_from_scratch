{
 "cells": [
  {
   "cell_type": "markdown",
   "id": "1c35a5a1",
   "metadata": {},
   "source": [
    "# Linear Regression from Scratch"
   ]
  },
  {
   "cell_type": "markdown",
   "id": "a7a6a0d2",
   "metadata": {},
   "source": [
    "We are going to implement linear regression from scratch using ordinary least square mean method."
   ]
  },
  {
   "attachments": {
    "1_nejpuvlh1MbMGQtve_1ztQ.png": {
     "image/png": "[encoded data removed]"
    }
   },
   "cell_type": "markdown",
   "id": "beb54bce",
   "metadata": {},
   "source": [
    "![1_nejpuvlh1MbMGQtve_1ztQ.png](attachment:1_nejpuvlh1MbMGQtve_1ztQ.png)"
   ]
  },
  {
   "cell_type": "code",
   "execution_count": 1,
   "id": "81b547c4",
   "metadata": {},
   "outputs": [],
   "source": [
    "# Import libraries\n",
    "import matplotlib.pyplot as plt\n",
    "%matplotlib inline\n",
    "\n",
    "import numpy as np\n",
    "import pandas as pd"
   ]
  },
  {
   "cell_type": "markdown",
   "id": "a4630845",
   "metadata": {},
   "source": [
    "### Prepare data"
   ]
  },
  {
   "cell_type": "code",
   "execution_count": 2,
   "id": "24f88379",
   "metadata": {},
   "outputs": [],
   "source": [
    "dataset = pd.read_csv('data/dataset.csv')"
   ]
  },
  {
   "cell_type": "code",
   "execution_count": 3,
   "id": "cc1e3682",
   "metadata": {},
   "outputs": [
    {
     "name": "stdout",
     "output_type": "stream",
     "text": [
      "(237, 4)\n"
     ]
    }
   ],
   "source": [
    "print(dataset.shape)"
   ]
  },
  {
   "cell_type": "code",
   "execution_count": 4,
   "id": "e5477a57",
   "metadata": {},
   "outputs": [
    {
     "data": {
      "text/html": [
       "<div>\n",
       "<style scoped>\n",
       "    .dataframe tbody tr th:only-of-type {\n",
       "        vertical-align: middle;\n",
       "    }\n",
       "\n",
       "    .dataframe tbody tr th {\n",
       "        vertical-align: top;\n",
       "    }\n",
       "\n",
       "    .dataframe thead th {\n",
       "        text-align: right;\n",
       "    }\n",
       "</style>\n",
       "<table border=\"1\" class=\"dataframe\">\n",
       "  <thead>\n",
       "    <tr style=\"text-align: right;\">\n",
       "      <th></th>\n",
       "      <th>Gender</th>\n",
       "      <th>Age Range</th>\n",
       "      <th>Head Size(cm^3)</th>\n",
       "      <th>Brain Weight(grams)</th>\n",
       "    </tr>\n",
       "  </thead>\n",
       "  <tbody>\n",
       "    <tr>\n",
       "      <th>0</th>\n",
       "      <td>1</td>\n",
       "      <td>1</td>\n",
       "      <td>4512</td>\n",
       "      <td>1530</td>\n",
       "    </tr>\n",
       "    <tr>\n",
       "      <th>1</th>\n",
       "      <td>1</td>\n",
       "      <td>1</td>\n",
       "      <td>3738</td>\n",
       "      <td>1297</td>\n",
       "    </tr>\n",
       "    <tr>\n",
       "      <th>2</th>\n",
       "      <td>1</td>\n",
       "      <td>1</td>\n",
       "      <td>4261</td>\n",
       "      <td>1335</td>\n",
       "    </tr>\n",
       "    <tr>\n",
       "      <th>3</th>\n",
       "      <td>1</td>\n",
       "      <td>1</td>\n",
       "      <td>3777</td>\n",
       "      <td>1282</td>\n",
       "    </tr>\n",
       "    <tr>\n",
       "      <th>4</th>\n",
       "      <td>1</td>\n",
       "      <td>1</td>\n",
       "      <td>4177</td>\n",
       "      <td>1590</td>\n",
       "    </tr>\n",
       "  </tbody>\n",
       "</table>\n",
       "</div>"
      ],
      "text/plain": [
       "   Gender  Age Range  Head Size(cm^3)  Brain Weight(grams)\n",
       "0       1          1             4512                 1530\n",
       "1       1          1             3738                 1297\n",
       "2       1          1             4261                 1335\n",
       "3       1          1             3777                 1282\n",
       "4       1          1             4177                 1590"
      ]
     },
     "execution_count": 4,
     "metadata": {},
     "output_type": "execute_result"
    }
   ],
   "source": [
    "dataset.head()"
   ]
  },
  {
   "cell_type": "code",
   "execution_count": 5,
   "id": "9b7f5445",
   "metadata": {},
   "outputs": [],
   "source": [
    "column_names = {\n",
    "    'Gender': 'gender',\n",
    "    'Age Range': 'age_range',\n",
    "    'Head Size(cm^3)': 'head_size',\n",
    "    'Brain Weight(grams)': 'brain_weight',\n",
    "}"
   ]
  },
  {
   "cell_type": "code",
   "execution_count": 6,
   "id": "dc24413a",
   "metadata": {},
   "outputs": [],
   "source": [
    "dataset.rename(columns = column_names, inplace=True)"
   ]
  },
  {
   "cell_type": "code",
   "execution_count": 7,
   "id": "cd72fa85",
   "metadata": {},
   "outputs": [],
   "source": [
    "# Define inputs and outputs\n",
    "x = dataset.head_size.to_numpy()\n",
    "y = dataset.brain_weight.to_numpy()"
   ]
  },
  {
   "cell_type": "markdown",
   "id": "2417f047",
   "metadata": {},
   "source": [
    "### Relationship between head_size and brain_weight"
   ]
  },
  {
   "cell_type": "code",
   "execution_count": 8,
   "id": "d4c4c816",
   "metadata": {},
   "outputs": [
    {
     "data": {
      "image/png": "[encoded data removed]",
      "text/plain": [
       "<Figure size 432x288 with 1 Axes>"
      ]
     },
     "metadata": {
      "needs_background": "light"
     },
     "output_type": "display_data"
    }
   ],
   "source": [
    "plt.scatter(x, y, color='red')\n",
    "plt.title('Relationship between head_size and brain_weight')\n",
    "plt.xlabel('head_size')\n",
    "plt.ylabel('brain_weight')\n",
    "\n",
    "plt.show()"
   ]
  },
  {
   "cell_type": "markdown",
   "id": "32320623",
   "metadata": {},
   "source": [
    "### Prepare data"
   ]
  },
  {
   "cell_type": "markdown",
   "id": "d0ce3261",
   "metadata": {},
   "source": [
    "### Implement Ordinary Least Square Method"
   ]
  },
  {
   "attachments": {
    "1_O2xXpYS7A3VlLXqT6SNMLg.png": {
     "image/png": "[encoded data removed]"
    }
   },
   "cell_type": "markdown",
   "id": "fb5c006c",
   "metadata": {},
   "source": [
    "![1_O2xXpYS7A3VlLXqT6SNMLg.png](attachment:1_O2xXpYS7A3VlLXqT6SNMLg.png)"
   ]
  },
  {
   "cell_type": "code",
   "execution_count": 9,
   "id": "ffa5f409",
   "metadata": {},
   "outputs": [],
   "source": [
    "class LinearRegression:\n",
    "    def __init__(self):\n",
    "        self.coef_ = None\n",
    "        self.intercept = None\n",
    "        self.score = None\n",
    "    \n",
    "    def fit(self, x, y):\n",
    "        # Implement Ordinary Least Square\n",
    "        \n",
    "        x_mean = np.mean(x)\n",
    "        y_mean = np.mean(y)\n",
    "        \n",
    "        # b1 = coeficient or scale factor (aka m)\n",
    "        b1 = np.sum((x - x_mean)  * (y - y_mean)) / np.sum(np.power((x - x_mean), 2))     \n",
    "        # b0 = bias coeficient (aka b)\n",
    "        b0 = y_mean - b1 * x_mean\n",
    "        \n",
    "        self.coef_ = b1\n",
    "        self.intercept = b0\n",
    "        \n",
    "    def predict(self, x):\n",
    "        return self.coef_ * x + self.intercept"
   ]
  },
  {
   "cell_type": "markdown",
   "id": "cb68aec1",
   "metadata": {},
   "source": [
    "### Plot results"
   ]
  },
  {
   "cell_type": "code",
   "execution_count": 10,
   "id": "dcaa69eb",
   "metadata": {},
   "outputs": [],
   "source": [
    "linear_regression = LinearRegression()\n",
    "linear_regression.fit(x, y)"
   ]
  },
  {
   "cell_type": "code",
   "execution_count": 11,
   "id": "e1cde59e",
   "metadata": {},
   "outputs": [
    {
     "data": {
      "image/png": "[encoded data removed]",
      "text/plain": [
       "<Figure size 432x288 with 1 Axes>"
      ]
     },
     "metadata": {
      "needs_background": "light"
     },
     "output_type": "display_data"
    }
   ],
   "source": [
    "#plotting values \n",
    "x_max = np.max(x) + 100\n",
    "x_min = np.min(x) - 100\n",
    "x_plot = np.linspace(x_min, x_max, 1000)\n",
    "\n",
    "# Make prediction\n",
    "y_hat = linear_regression.predict(x_plot)\n",
    "\n",
    "#plotting line \n",
    "plt.plot(x_plot, y_hat, color='blue', label='Linear Regression')\n",
    "\n",
    "#plot the data point\n",
    "plt.scatter(x, y, color='red', label='Data Point')\n",
    "\n",
    "# x-axis label\n",
    "plt.xlabel('Head Size (cm^3)')\n",
    "\n",
    "#y-axis label\n",
    "plt.ylabel('Brain Weight (grams)')\n",
    "\n",
    "plt.legend()\n",
    "plt.show()"
   ]
  },
  {
   "cell_type": "markdown",
   "id": "3508fc8b",
   "metadata": {},
   "source": [
    "## Evaluate model"
   ]
  },
  {
   "cell_type": "markdown",
   "id": "30a64c97",
   "metadata": {},
   "source": [
    "### RMSE"
   ]
  },
  {
   "attachments": {
    "1_SGBsn7WytmYYbuTgDatIpw.gif": {
     "image/gif": "[encoded data removed]"
    }
   },
   "cell_type": "markdown",
   "id": "60d0693e",
   "metadata": {},
   "source": [
    "![1_SGBsn7WytmYYbuTgDatIpw.gif](attachment:1_SGBsn7WytmYYbuTgDatIpw.gif)"
   ]
  },
  {
   "cell_type": "code",
   "execution_count": 12,
   "id": "6d6342ef",
   "metadata": {},
   "outputs": [],
   "source": [
    "y_predicted = linear_regression.predict(x)"
   ]
  },
  {
   "cell_type": "code",
   "execution_count": 13,
   "id": "f0ec526d",
   "metadata": {},
   "outputs": [],
   "source": [
    "def rmse(y, y_predicted):\n",
    "    return np.power(np.sum(np.power((y - y_predicted), 2)) / len(y), 1/2) "
   ]
  },
  {
   "cell_type": "code",
   "execution_count": 14,
   "id": "6c411f4f",
   "metadata": {},
   "outputs": [
    {
     "data": {
      "text/plain": [
       "72.1206213783709"
      ]
     },
     "execution_count": 14,
     "metadata": {},
     "output_type": "execute_result"
    }
   ],
   "source": [
    "rmse(y, y_predicted)"
   ]
  },
  {
   "cell_type": "code",
   "execution_count": 15,
   "id": "91366421",
   "metadata": {},
   "outputs": [
    {
     "data": {
      "text/plain": [
       "1282.873417721519"
      ]
     },
     "execution_count": 15,
     "metadata": {},
     "output_type": "execute_result"
    }
   ],
   "source": [
    "np.mean(y)"
   ]
  },
  {
   "cell_type": "markdown",
   "id": "183d5ad9",
   "metadata": {},
   "source": [
    "### R2"
   ]
  },
  {
   "attachments": {
    "1_eebOVNcNlkwqM-fWjzmOLg.gif": {
     "image/gif": "[encoded data removed]"
    }
   },
   "cell_type": "markdown",
   "id": "f6c9b73b",
   "metadata": {},
   "source": [
    "![1_eebOVNcNlkwqM-fWjzmOLg.gif](attachment:1_eebOVNcNlkwqM-fWjzmOLg.gif)"
   ]
  },
  {
   "cell_type": "markdown",
   "id": "ac0e5fa1",
   "metadata": {},
   "source": [
    "R² Score usually ranges from 0 to 1. It will also become negative if the model is completely wrong. "
   ]
  },
  {
   "cell_type": "code",
   "execution_count": 16,
   "id": "fd17dbba",
   "metadata": {},
   "outputs": [],
   "source": [
    "def r2(y, y_predicted):\n",
    "    y_mean = np.mean(y)\n",
    "    return np.sum(np.power((y_predicted - y_mean), 2)) / np.sum(np.power((y - y_mean), 2))"
   ]
  },
  {
   "cell_type": "code",
   "execution_count": 17,
   "id": "a4083626",
   "metadata": {},
   "outputs": [
    {
     "data": {
      "text/plain": [
       "0.639311719957"
      ]
     },
     "execution_count": 17,
     "metadata": {},
     "output_type": "execute_result"
    }
   ],
   "source": [
    "r2(y, y_predicted)"
   ]
  },
  {
   "cell_type": "markdown",
   "id": "2adcc4e2",
   "metadata": {},
   "source": [
    "### Inspired the following post:\n",
    "- [Post](https://towardsdatascience.com/linear-regression-from-scratch-cd0dee067f72)"
   ]
  }
 ],
 "metadata": {
  "kernelspec": {
   "display_name": "Python 3 (ipykernel)",
   "language": "python",
   "name": "python3"
  },
  "language_info": {
   "codemirror_mode": {
    "name": "ipython",
    "version": 3
   },
   "file_extension": ".py",
   "mimetype": "text/x-python",
   "name": "python",
   "nbconvert_exporter": "python",
   "pygments_lexer": "ipython3",
   "version": "3.9.5"
  }
 },
 "nbformat": 4,
 "nbformat_minor": 5
}
